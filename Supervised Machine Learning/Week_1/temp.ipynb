{
 "cells": [
  {
   "cell_type": "markdown",
   "metadata": {},
   "source": [
    "## Supervised learning\n",
    "\n",
    "- input [x] --> output [y]\n",
    "- learns by given \"right answer\"\n",
    "- i.e. labeled data\n",
    "\n"
   ]
  },
  {
   "cell_type": "markdown",
   "metadata": {},
   "source": [
    "### Linear regression model\n",
    "\n",
    "- **$\\hat{y}$** is the estimate or the prediction of **y**\n",
    "- **`F`<sub>`b,w`</sub>`(x) = wx +`** ***`b`***\n",
    "  - or can use this short notation **`F(x) = wx +`** ***`b`***"
   ]
  },
  {
   "cell_type": "code",
   "execution_count": null,
   "metadata": {},
   "outputs": [],
   "source": []
  }
 ],
 "metadata": {
  "kernelspec": {
   "display_name": "Python 3.7.12 ('tf2')",
   "language": "python",
   "name": "python3"
  },
  "language_info": {
   "name": "python",
   "version": "3.7.12"
  },
  "orig_nbformat": 4,
  "vscode": {
   "interpreter": {
    "hash": "6db0119fbdf3f0fc0fcf257fc9309aa322038ba8c098c83caf7d6ff5b15b67c5"
   }
  }
 },
 "nbformat": 4,
 "nbformat_minor": 2
}
